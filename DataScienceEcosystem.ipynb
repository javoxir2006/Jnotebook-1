{
 "cells": [
  {
   "cell_type": "markdown",
   "id": "1bec9df1-3b00-4df5-8065-0ace67e1b387",
   "metadata": {},
   "source": [
    "# Data Science Tools and Ecosystem"
   ]
  },
  {
   "cell_type": "markdown",
   "id": "59ded06a-e930-414b-9925-b40aa84f28c8",
   "metadata": {},
   "source": [
    "In this notebook, Data Science Tools and Ecosystem are summarized.\n"
   ]
  },
  {
   "cell_type": "markdown",
   "id": "fe4b29a1-144c-4335-b747-6165e4b3ba7c",
   "metadata": {},
   "source": [
    "**Objectives:**\n",
    "- List of Data Scientists Languages\n",
    "- List of libraries Data Scientists use\n",
    "- Data Science Tools\n",
    "- Examples of evaluating arithmetics in Python"
   ]
  },
  {
   "cell_type": "markdown",
   "id": "f8086cc1-837c-4f1e-8a77-f74d5a8c673e",
   "metadata": {},
   "source": [
    "Some of the popular languages that Data Scientists use are:\n",
    "1. Python\n",
    "2. Java\n",
    "3. R\n",
    "4. C++"
   ]
  },
  {
   "cell_type": "markdown",
   "id": "825d1d63-6033-42b2-aeb7-e35d550c6f89",
   "metadata": {},
   "source": [
    "Some of the commonly used libraries used by Data Scientists include:\n",
    "1. NumPy\n",
    "2. MatPlotlib\n",
    "3. Plotly\n",
    "4. Pandas"
   ]
  },
  {
   "cell_type": "markdown",
   "id": "ea8d113e-6d51-4fa0-9527-594bbd9548c1",
   "metadata": {},
   "source": [
    "|Data Science Tools|\n",
    "|-----------------|\n",
    "|Jupyter Notebook|\n",
    "|JupyterLab|\n",
    "|GoogleColab|"
   ]
  },
  {
   "cell_type": "markdown",
   "id": "765d6c26-15c7-4438-b833-d86bcb5ece24",
   "metadata": {},
   "source": [
    "### Below are a few examples of evaluating arithmetic expressions in Python"
   ]
  },
  {
   "cell_type": "code",
   "execution_count": 7,
   "id": "dfd08d7b-20a4-4cb7-a169-6be2f9a69d65",
   "metadata": {},
   "outputs": [
    {
     "data": {
      "text/plain": [
       "17"
      ]
     },
     "execution_count": 7,
     "metadata": {},
     "output_type": "execute_result"
    }
   ],
   "source": [
    "# This a simple arithmetic expression to mutiply then add integers\n",
    "(3*4)+5"
   ]
  },
  {
   "cell_type": "code",
   "execution_count": 9,
   "id": "cbfb4eb4-4d4a-4e1c-a7ca-9df1bc600a3d",
   "metadata": {},
   "outputs": [
    {
     "data": {
      "text/plain": [
       "3.3333333333333335"
      ]
     },
     "execution_count": 9,
     "metadata": {},
     "output_type": "execute_result"
    }
   ],
   "source": [
    "# This will convert 200 minutes to hours by diving by 60\n",
    "200/60"
   ]
  },
  {
   "cell_type": "markdown",
   "id": "6aa4de0b-c10a-4d8c-9654-f3b5a4f67e64",
   "metadata": {},
   "source": [
    "## Author\n",
    "Javoxir"
   ]
  },
  {
   "cell_type": "code",
   "execution_count": null,
   "id": "88923199-c928-4f01-b946-29ba26a67148",
   "metadata": {},
   "outputs": [],
   "source": []
  }
 ],
 "metadata": {
  "kernelspec": {
   "display_name": "Python 3 (ipykernel)",
   "language": "python",
   "name": "python3"
  },
  "language_info": {
   "codemirror_mode": {
    "name": "ipython",
    "version": 3
   },
   "file_extension": ".py",
   "mimetype": "text/x-python",
   "name": "python",
   "nbconvert_exporter": "python",
   "pygments_lexer": "ipython3",
   "version": "3.12.4"
  }
 },
 "nbformat": 4,
 "nbformat_minor": 5
}
